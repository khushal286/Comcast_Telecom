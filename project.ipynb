{
 "cells": [
  {
   "cell_type": "code",
   "execution_count": 1,
   "id": "43227463",
   "metadata": {},
   "outputs": [],
   "source": [
    "import pandas as pd\n",
    "import numpy as np\n",
    "import matplotlib.pyplot as plt\n",
    "%matplotlib inline"
   ]
  },
  {
   "cell_type": "markdown",
   "id": "54870c3b",
   "metadata": {},
   "source": [
    "\n",
    "## Task 1: Import data into Python environment"
   ]
  },
  {
   "cell_type": "code",
   "execution_count": 2,
   "id": "3c975d28",
   "metadata": {},
   "outputs": [],
   "source": [
    "comcast_tele_consumer=pd.read_csv(\"C:/Users/91706/OneDrive/Desktop/KhushalPractice/Comcast_telecom_complaints_data.csv\")"
   ]
  },
  {
   "cell_type": "code",
   "execution_count": 3,
   "id": "200deb32",
   "metadata": {},
   "outputs": [
    {
     "data": {
      "text/html": [
       "<div>\n",
       "<style scoped>\n",
       "    .dataframe tbody tr th:only-of-type {\n",
       "        vertical-align: middle;\n",
       "    }\n",
       "\n",
       "    .dataframe tbody tr th {\n",
       "        vertical-align: top;\n",
       "    }\n",
       "\n",
       "    .dataframe thead th {\n",
       "        text-align: right;\n",
       "    }\n",
       "</style>\n",
       "<table border=\"1\" class=\"dataframe\">\n",
       "  <thead>\n",
       "    <tr style=\"text-align: right;\">\n",
       "      <th></th>\n",
       "      <th>Ticket #</th>\n",
       "      <th>Customer Complaint</th>\n",
       "      <th>Date</th>\n",
       "      <th>Date_month_year</th>\n",
       "      <th>Time</th>\n",
       "      <th>Received Via</th>\n",
       "      <th>City</th>\n",
       "      <th>State</th>\n",
       "      <th>Zip code</th>\n",
       "      <th>Status</th>\n",
       "      <th>Filing on Behalf of Someone</th>\n",
       "    </tr>\n",
       "  </thead>\n",
       "  <tbody>\n",
       "    <tr>\n",
       "      <th>0</th>\n",
       "      <td>250635</td>\n",
       "      <td>Comcast Cable Internet Speeds</td>\n",
       "      <td>22-04-15</td>\n",
       "      <td>22-Apr-15</td>\n",
       "      <td>3:53:50 PM</td>\n",
       "      <td>Customer Care Call</td>\n",
       "      <td>Abingdon</td>\n",
       "      <td>Maryland</td>\n",
       "      <td>21009</td>\n",
       "      <td>Closed</td>\n",
       "      <td>No</td>\n",
       "    </tr>\n",
       "    <tr>\n",
       "      <th>1</th>\n",
       "      <td>223441</td>\n",
       "      <td>Payment disappear - service got disconnected</td>\n",
       "      <td>04-08-15</td>\n",
       "      <td>04-Aug-15</td>\n",
       "      <td>10:22:56 AM</td>\n",
       "      <td>Internet</td>\n",
       "      <td>Acworth</td>\n",
       "      <td>Georgia</td>\n",
       "      <td>30102</td>\n",
       "      <td>Closed</td>\n",
       "      <td>No</td>\n",
       "    </tr>\n",
       "    <tr>\n",
       "      <th>2</th>\n",
       "      <td>242732</td>\n",
       "      <td>Speed and Service</td>\n",
       "      <td>18-04-15</td>\n",
       "      <td>18-Apr-15</td>\n",
       "      <td>9:55:47 AM</td>\n",
       "      <td>Internet</td>\n",
       "      <td>Acworth</td>\n",
       "      <td>Georgia</td>\n",
       "      <td>30101</td>\n",
       "      <td>Closed</td>\n",
       "      <td>Yes</td>\n",
       "    </tr>\n",
       "    <tr>\n",
       "      <th>3</th>\n",
       "      <td>277946</td>\n",
       "      <td>Comcast Imposed a New Usage Cap of 300GB that ...</td>\n",
       "      <td>05-07-15</td>\n",
       "      <td>05-Jul-15</td>\n",
       "      <td>11:59:35 AM</td>\n",
       "      <td>Internet</td>\n",
       "      <td>Acworth</td>\n",
       "      <td>Georgia</td>\n",
       "      <td>30101</td>\n",
       "      <td>Open</td>\n",
       "      <td>Yes</td>\n",
       "    </tr>\n",
       "    <tr>\n",
       "      <th>4</th>\n",
       "      <td>307175</td>\n",
       "      <td>Comcast not working and no service to boot</td>\n",
       "      <td>26-05-15</td>\n",
       "      <td>26-May-15</td>\n",
       "      <td>1:25:26 PM</td>\n",
       "      <td>Internet</td>\n",
       "      <td>Acworth</td>\n",
       "      <td>Georgia</td>\n",
       "      <td>30101</td>\n",
       "      <td>Solved</td>\n",
       "      <td>No</td>\n",
       "    </tr>\n",
       "  </tbody>\n",
       "</table>\n",
       "</div>"
      ],
      "text/plain": [
       "  Ticket #                                 Customer Complaint      Date  \\\n",
       "0   250635                      Comcast Cable Internet Speeds  22-04-15   \n",
       "1   223441       Payment disappear - service got disconnected  04-08-15   \n",
       "2   242732                                  Speed and Service  18-04-15   \n",
       "3   277946  Comcast Imposed a New Usage Cap of 300GB that ...  05-07-15   \n",
       "4   307175         Comcast not working and no service to boot  26-05-15   \n",
       "\n",
       "  Date_month_year         Time        Received Via      City     State  \\\n",
       "0       22-Apr-15   3:53:50 PM  Customer Care Call  Abingdon  Maryland   \n",
       "1       04-Aug-15  10:22:56 AM            Internet   Acworth   Georgia   \n",
       "2       18-Apr-15   9:55:47 AM            Internet   Acworth   Georgia   \n",
       "3       05-Jul-15  11:59:35 AM            Internet   Acworth   Georgia   \n",
       "4       26-May-15   1:25:26 PM            Internet   Acworth   Georgia   \n",
       "\n",
       "   Zip code  Status Filing on Behalf of Someone  \n",
       "0     21009  Closed                          No  \n",
       "1     30102  Closed                          No  \n",
       "2     30101  Closed                         Yes  \n",
       "3     30101    Open                         Yes  \n",
       "4     30101  Solved                          No  "
      ]
     },
     "execution_count": 3,
     "metadata": {},
     "output_type": "execute_result"
    }
   ],
   "source": [
    "# check whether data imported or not\n",
    "comcast_tele_consumer.head()"
   ]
  },
  {
   "cell_type": "code",
   "execution_count": 4,
   "id": "fa78fe0c",
   "metadata": {},
   "outputs": [
    {
     "data": {
      "text/plain": [
       "(2224, 11)"
      ]
     },
     "execution_count": 4,
     "metadata": {},
     "output_type": "execute_result"
    }
   ],
   "source": [
    "# Step 1: Check the duplicate columns or Variables with duplicate names and delete such columns\n",
    "comcast_tele_consumer.shape"
   ]
  },
  {
   "cell_type": "code",
   "execution_count": 5,
   "id": "abee1678",
   "metadata": {},
   "outputs": [
    {
     "data": {
      "text/plain": [
       "Index(['Ticket #', 'Customer Complaint', 'Date', 'Date_month_year', 'Time',\n",
       "       'Received Via', 'City', 'State', 'Zip code', 'Status',\n",
       "       'Filing on Behalf of Someone'],\n",
       "      dtype='object')"
      ]
     },
     "execution_count": 5,
     "metadata": {},
     "output_type": "execute_result"
    }
   ],
   "source": [
    "comcast_tele_consumer.columns"
   ]
  },
  {
   "cell_type": "code",
   "execution_count": 6,
   "id": "a3fea824",
   "metadata": {},
   "outputs": [],
   "source": [
    "# Hence no duplicate names found we will go to step 2"
   ]
  },
  {
   "cell_type": "code",
   "execution_count": 7,
   "id": "96f8e284",
   "metadata": {},
   "outputs": [
    {
     "data": {
      "text/html": [
       "<div>\n",
       "<style scoped>\n",
       "    .dataframe tbody tr th:only-of-type {\n",
       "        vertical-align: middle;\n",
       "    }\n",
       "\n",
       "    .dataframe tbody tr th {\n",
       "        vertical-align: top;\n",
       "    }\n",
       "\n",
       "    .dataframe thead th {\n",
       "        text-align: right;\n",
       "    }\n",
       "</style>\n",
       "<table border=\"1\" class=\"dataframe\">\n",
       "  <thead>\n",
       "    <tr style=\"text-align: right;\">\n",
       "      <th></th>\n",
       "      <th>Zip code</th>\n",
       "    </tr>\n",
       "  </thead>\n",
       "  <tbody>\n",
       "    <tr>\n",
       "      <th>count</th>\n",
       "      <td>2224.000000</td>\n",
       "    </tr>\n",
       "    <tr>\n",
       "      <th>mean</th>\n",
       "      <td>47994.393435</td>\n",
       "    </tr>\n",
       "    <tr>\n",
       "      <th>std</th>\n",
       "      <td>28885.279427</td>\n",
       "    </tr>\n",
       "    <tr>\n",
       "      <th>min</th>\n",
       "      <td>1075.000000</td>\n",
       "    </tr>\n",
       "    <tr>\n",
       "      <th>25%</th>\n",
       "      <td>30056.500000</td>\n",
       "    </tr>\n",
       "    <tr>\n",
       "      <th>50%</th>\n",
       "      <td>37211.000000</td>\n",
       "    </tr>\n",
       "    <tr>\n",
       "      <th>75%</th>\n",
       "      <td>77058.750000</td>\n",
       "    </tr>\n",
       "    <tr>\n",
       "      <th>max</th>\n",
       "      <td>99223.000000</td>\n",
       "    </tr>\n",
       "  </tbody>\n",
       "</table>\n",
       "</div>"
      ],
      "text/plain": [
       "           Zip code\n",
       "count   2224.000000\n",
       "mean   47994.393435\n",
       "std    28885.279427\n",
       "min     1075.000000\n",
       "25%    30056.500000\n",
       "50%    37211.000000\n",
       "75%    77058.750000\n",
       "max    99223.000000"
      ]
     },
     "execution_count": 7,
     "metadata": {},
     "output_type": "execute_result"
    }
   ],
   "source": [
    "# Step 2: Check for 0 columns or single value\n",
    "comcast_tele_consumer.describe()"
   ]
  },
  {
   "cell_type": "code",
   "execution_count": 8,
   "id": "150a6bb9",
   "metadata": {},
   "outputs": [],
   "source": [
    "# No Zero Columns or single Value Found, so we proceed to step 3"
   ]
  },
  {
   "cell_type": "code",
   "execution_count": 9,
   "id": "9fbad48a",
   "metadata": {},
   "outputs": [
    {
     "data": {
      "text/plain": [
       "Ticket #                       0\n",
       "Customer Complaint             0\n",
       "Date                           0\n",
       "Date_month_year                0\n",
       "Time                           0\n",
       "Received Via                   0\n",
       "City                           0\n",
       "State                          0\n",
       "Zip code                       0\n",
       "Status                         0\n",
       "Filing on Behalf of Someone    0\n",
       "dtype: int64"
      ]
     },
     "execution_count": 9,
     "metadata": {},
     "output_type": "execute_result"
    }
   ],
   "source": [
    "# Step 3: Missing value Treatment\n",
    "comcast_tele_consumer.isnull().sum().sort_values(ascending=False)"
   ]
  },
  {
   "cell_type": "code",
   "execution_count": 10,
   "id": "05cd4744",
   "metadata": {},
   "outputs": [],
   "source": [
    "# No Missing value found so we proceed to step"
   ]
  },
  {
   "cell_type": "markdown",
   "id": "fea3860a",
   "metadata": {},
   "source": [
    "## Task 2: Provide the trend chart for the number of complaints at monthly and daily granularity levels."
   ]
  },
  {
   "cell_type": "code",
   "execution_count": 11,
   "id": "0a085461",
   "metadata": {},
   "outputs": [
    {
     "data": {
      "text/plain": [
       "Ticket #                       object\n",
       "Customer Complaint             object\n",
       "Date                           object\n",
       "Date_month_year                object\n",
       "Time                           object\n",
       "Received Via                   object\n",
       "City                           object\n",
       "State                          object\n",
       "Zip code                        int64\n",
       "Status                         object\n",
       "Filing on Behalf of Someone    object\n",
       "dtype: object"
      ]
     },
     "execution_count": 11,
     "metadata": {},
     "output_type": "execute_result"
    }
   ],
   "source": [
    "comcast_tele_consumer.dtypes"
   ]
  },
  {
   "cell_type": "code",
   "execution_count": 12,
   "id": "041e2079",
   "metadata": {},
   "outputs": [],
   "source": [
    "# Add Date Month year with Time and save it into Date_Full\n",
    "comcast_tele_consumer[\"Date_Full\"] = comcast_tele_consumer[\"Date_month_year\"] + ' ' +  comcast_tele_consumer[\"Time\"]"
   ]
  },
  {
   "cell_type": "code",
   "execution_count": 13,
   "id": "483676bd",
   "metadata": {},
   "outputs": [],
   "source": [
    "#Convert Date_Full and Date_month_year to Datetime Format\n",
    "comcast_tele_consumer[\"Date_Full\"] = pd.to_datetime(comcast_tele_consumer[\"Date_Full\"])\n",
    "comcast_tele_consumer[\"Date_month_year\"] = pd.to_datetime(comcast_tele_consumer[\"Date_month_year\"])\n",
    "comcast_tele_consumer_monthly = comcast_tele_consumer.set_index(comcast_tele_consumer[\"Date_Full\"])"
   ]
  },
  {
   "cell_type": "code",
   "execution_count": 14,
   "id": "de268890",
   "metadata": {},
   "outputs": [
    {
     "data": {
      "text/plain": [
       "<AxesSubplot:xlabel='Date_Full', ylabel='Number of Complaints'>"
      ]
     },
     "execution_count": 14,
     "metadata": {},
     "output_type": "execute_result"
    },
    {
     "data": {
      "image/png": "[encoded data removed]",
      "text/plain": [
       "<Figure size 1008x432 with 1 Axes>"
      ]
     },
     "metadata": {
      "needs_background": "light"
     },
     "output_type": "display_data"
    }
   ],
   "source": [
    "# Provide the trend chart for the number of complaints at monthly granularity levels.\n",
    "#Increase Graph Size\n",
    "plt.figure(figsize=(14,6))\n",
    "plt.suptitle('Number of complaints at Monthly granularity levels')\n",
    "plt.ylabel('Number of Complaints')\n",
    "comcast_tele_consumer_monthly.groupby(pd.Grouper(freq=\"M\")).size().plot(color='indigo')"
   ]
  },
  {
   "cell_type": "code",
   "execution_count": 15,
   "id": "0c50fe47",
   "metadata": {},
   "outputs": [
    {
     "data": {
      "text/plain": [
       "<AxesSubplot:xlabel='Day of Month', ylabel='Number of Complaints'>"
      ]
     },
     "execution_count": 15,
     "metadata": {},
     "output_type": "execute_result"
    },
    {
     "data": {
      "image/png": "[encoded data removed]",
      "text/plain": [
       "<Figure size 1008x432 with 1 Axes>"
      ]
     },
     "metadata": {
      "needs_background": "light"
     },
     "output_type": "display_data"
    }
   ],
   "source": [
    "# Provide the trend chart for the number of complaints at daily granularity levels.\n",
    "comcast_tele_consumer['Day of Month'] = pd.to_datetime(comcast_tele_consumer['Date'])\n",
    "comcast_tele_consumer_daily = comcast_tele_consumer.set_index(comcast_tele_consumer[\"Day of Month\"])\n",
    "#Increase Graph Size\n",
    "plt.figure(figsize=(14,6))\n",
    "plt.suptitle('Number of complaints at Daily granularity levels')\n",
    "plt.ylabel('Number of Complaints')\n",
    "comcast_tele_consumer_daily.groupby(pd.Grouper(freq=\"D\")).size().plot(color='maroon')"
   ]
  },
  {
   "cell_type": "markdown",
   "id": "bf835820",
   "metadata": {},
   "source": [
    "## Task 3: Provide a table with the frequency of complaint types."
   ]
  },
  {
   "cell_type": "code",
   "execution_count": 16,
   "id": "6567afdd",
   "metadata": {},
   "outputs": [],
   "source": [
    "# To get the frequency of complaint types first we have to see all complaint types and check for duplicate, case sensentive\n",
    "# Incomplete data so that we can make analytics better\n",
    "comcast_tele_consumer_complaint_type = comcast_tele_consumer[\"Customer Complaint\"].value_counts()"
   ]
  },
  {
   "cell_type": "code",
   "execution_count": 17,
   "id": "a573c4f0",
   "metadata": {},
   "outputs": [
    {
     "data": {
      "text/plain": [
       "Comcast                     83\n",
       "Comcast Internet            18\n",
       "Comcast Data Cap            17\n",
       "comcast                     13\n",
       "Comcast Billing             11\n",
       "Data Caps                   11\n",
       "Comcast Data Caps           11\n",
       "Unfair Billing Practices     9\n",
       "Comcast data cap             8\n",
       "Comcast internet             8\n",
       "Name: Customer Complaint, dtype: int64"
      ]
     },
     "execution_count": 17,
     "metadata": {},
     "output_type": "execute_result"
    }
   ],
   "source": [
    "comcast_tele_consumer_complaint_type.head(10)"
   ]
  },
  {
   "cell_type": "code",
   "execution_count": 18,
   "id": "c85acf60",
   "metadata": {},
   "outputs": [],
   "source": [
    "# Better to convert all data into uper case or sentence case so duplicate value will shorted\n",
    "comcast_tele_consumer_complaint_type=comcast_tele_consumer[\"Customer Complaint\"].str.upper().value_counts()"
   ]
  },
  {
   "cell_type": "code",
   "execution_count": 19,
   "id": "80566210",
   "metadata": {},
   "outputs": [
    {
     "data": {
      "text/plain": [
       "COMCAST                             102\n",
       "COMCAST DATA CAP                     30\n",
       "COMCAST INTERNET                     29\n",
       "COMCAST DATA CAPS                    21\n",
       "COMCAST BILLING                      18\n",
       "COMCAST SERVICE                      15\n",
       "INTERNET SPEED                       15\n",
       "UNFAIR BILLING PRACTICES             13\n",
       "DATA CAPS                            13\n",
       "DATA CAP                             12\n",
       "COMCAST COMPLAINT                    11\n",
       "COMCAST/XFINITY                      11\n",
       "COMCAST INTERNET SERVICE             10\n",
       "BILLING                               9\n",
       "BILLING ISSUES                        8\n",
       "COMCAST CABLE                         5\n",
       "INTERNET                              5\n",
       "COMCAST BILLING COMPLAINT             5\n",
       "COMCAST ISSUES                        5\n",
       "COMCAST BILLING PRACTICES             5\n",
       "SERVICE ISSUES                        5\n",
       "SLOW INTERNET                         5\n",
       "INTERNET SERVICE                      5\n",
       "COMPLAINT AGAINST COMCAST             5\n",
       "COMCAST UNFAIR BILLING PRACTICES      4\n",
       "Name: Customer Complaint, dtype: int64"
      ]
     },
     "execution_count": 19,
     "metadata": {},
     "output_type": "execute_result"
    }
   ],
   "source": [
    "# Data is huge so we have showed only top 25 Complaint Types. We can show clearly in this table that COMCAST, COMCAST DATA CAP\n",
    "# COMCAST INTERNET are the Highest top 3 complaint types\n",
    "comcast_tele_consumer_complaint_type.head(25)"
   ]
  },
  {
   "cell_type": "markdown",
   "id": "ffbe41af",
   "metadata": {},
   "source": [
    "##  Task 5: Create a new categorical variable with value as Open and Closed. Open & Pending is to be categorized as Open and Closed & Solved is to be categorized as Closed."
   ]
  },
  {
   "cell_type": "code",
   "execution_count": 20,
   "id": "720d57cc",
   "metadata": {},
   "outputs": [
    {
     "data": {
      "text/plain": [
       "array(['Closed', 'Open', 'Solved', 'Pending'], dtype=object)"
      ]
     },
     "execution_count": 20,
     "metadata": {},
     "output_type": "execute_result"
    }
   ],
   "source": [
    "# Check how many unique values are under Status Column \n",
    "comcast_tele_consumer['Status'].unique()"
   ]
  },
  {
   "cell_type": "code",
   "execution_count": 21,
   "id": "c68e4f7b",
   "metadata": {},
   "outputs": [],
   "source": [
    "# Convert as per Instruction (Task 5) into New Column without changing the main data so that we can use the main data\n",
    "# in Future\n",
    "comcast_tele_consumer['New_Status']= [\"Open\" if Status==\"Open\" or Status==\"Pending\" else \n",
    "                                      \"Closed\" for Status in comcast_tele_consumer[\"Status\"]]"
   ]
  },
  {
   "cell_type": "code",
   "execution_count": 22,
   "id": "463b848e",
   "metadata": {},
   "outputs": [
    {
     "data": {
      "text/plain": [
       "array(['Closed', 'Open'], dtype=object)"
      ]
     },
     "execution_count": 22,
     "metadata": {},
     "output_type": "execute_result"
    }
   ],
   "source": [
    "# Check whether all status updated or not\n",
    "comcast_tele_consumer['New_Status'].unique()"
   ]
  },
  {
   "cell_type": "code",
   "execution_count": 23,
   "id": "34c17452",
   "metadata": {},
   "outputs": [],
   "source": [
    "comcast_tele_consumer_status_by_state = pd.crosstab(comcast_tele_consumer.State,comcast_tele_consumer.New_Status)"
   ]
  },
  {
   "cell_type": "code",
   "execution_count": 24,
   "id": "e3914839",
   "metadata": {},
   "outputs": [
    {
     "data": {
      "text/html": [
       "<div>\n",
       "<style scoped>\n",
       "    .dataframe tbody tr th:only-of-type {\n",
       "        vertical-align: middle;\n",
       "    }\n",
       "\n",
       "    .dataframe tbody tr th {\n",
       "        vertical-align: top;\n",
       "    }\n",
       "\n",
       "    .dataframe thead th {\n",
       "        text-align: right;\n",
       "    }\n",
       "</style>\n",
       "<table border=\"1\" class=\"dataframe\">\n",
       "  <thead>\n",
       "    <tr style=\"text-align: right;\">\n",
       "      <th>New_Status</th>\n",
       "      <th>Closed</th>\n",
       "      <th>Open</th>\n",
       "    </tr>\n",
       "    <tr>\n",
       "      <th>State</th>\n",
       "      <th></th>\n",
       "      <th></th>\n",
       "    </tr>\n",
       "  </thead>\n",
       "  <tbody>\n",
       "    <tr>\n",
       "      <th>Alabama</th>\n",
       "      <td>17</td>\n",
       "      <td>9</td>\n",
       "    </tr>\n",
       "    <tr>\n",
       "      <th>Arizona</th>\n",
       "      <td>14</td>\n",
       "      <td>6</td>\n",
       "    </tr>\n",
       "    <tr>\n",
       "      <th>Arkansas</th>\n",
       "      <td>6</td>\n",
       "      <td>0</td>\n",
       "    </tr>\n",
       "    <tr>\n",
       "      <th>California</th>\n",
       "      <td>159</td>\n",
       "      <td>61</td>\n",
       "    </tr>\n",
       "    <tr>\n",
       "      <th>Colorado</th>\n",
       "      <td>58</td>\n",
       "      <td>22</td>\n",
       "    </tr>\n",
       "    <tr>\n",
       "      <th>Connecticut</th>\n",
       "      <td>9</td>\n",
       "      <td>3</td>\n",
       "    </tr>\n",
       "    <tr>\n",
       "      <th>Delaware</th>\n",
       "      <td>8</td>\n",
       "      <td>4</td>\n",
       "    </tr>\n",
       "    <tr>\n",
       "      <th>District Of Columbia</th>\n",
       "      <td>14</td>\n",
       "      <td>2</td>\n",
       "    </tr>\n",
       "    <tr>\n",
       "      <th>District of Columbia</th>\n",
       "      <td>1</td>\n",
       "      <td>0</td>\n",
       "    </tr>\n",
       "    <tr>\n",
       "      <th>Florida</th>\n",
       "      <td>201</td>\n",
       "      <td>39</td>\n",
       "    </tr>\n",
       "    <tr>\n",
       "      <th>Georgia</th>\n",
       "      <td>208</td>\n",
       "      <td>80</td>\n",
       "    </tr>\n",
       "    <tr>\n",
       "      <th>Illinois</th>\n",
       "      <td>135</td>\n",
       "      <td>29</td>\n",
       "    </tr>\n",
       "    <tr>\n",
       "      <th>Indiana</th>\n",
       "      <td>50</td>\n",
       "      <td>9</td>\n",
       "    </tr>\n",
       "    <tr>\n",
       "      <th>Iowa</th>\n",
       "      <td>1</td>\n",
       "      <td>0</td>\n",
       "    </tr>\n",
       "    <tr>\n",
       "      <th>Kansas</th>\n",
       "      <td>1</td>\n",
       "      <td>1</td>\n",
       "    </tr>\n",
       "    <tr>\n",
       "      <th>Kentucky</th>\n",
       "      <td>4</td>\n",
       "      <td>3</td>\n",
       "    </tr>\n",
       "    <tr>\n",
       "      <th>Louisiana</th>\n",
       "      <td>12</td>\n",
       "      <td>1</td>\n",
       "    </tr>\n",
       "    <tr>\n",
       "      <th>Maine</th>\n",
       "      <td>3</td>\n",
       "      <td>2</td>\n",
       "    </tr>\n",
       "    <tr>\n",
       "      <th>Maryland</th>\n",
       "      <td>63</td>\n",
       "      <td>15</td>\n",
       "    </tr>\n",
       "    <tr>\n",
       "      <th>Massachusetts</th>\n",
       "      <td>50</td>\n",
       "      <td>11</td>\n",
       "    </tr>\n",
       "    <tr>\n",
       "      <th>Michigan</th>\n",
       "      <td>92</td>\n",
       "      <td>23</td>\n",
       "    </tr>\n",
       "    <tr>\n",
       "      <th>Minnesota</th>\n",
       "      <td>29</td>\n",
       "      <td>4</td>\n",
       "    </tr>\n",
       "    <tr>\n",
       "      <th>Mississippi</th>\n",
       "      <td>23</td>\n",
       "      <td>16</td>\n",
       "    </tr>\n",
       "    <tr>\n",
       "      <th>Missouri</th>\n",
       "      <td>3</td>\n",
       "      <td>1</td>\n",
       "    </tr>\n",
       "    <tr>\n",
       "      <th>Montana</th>\n",
       "      <td>1</td>\n",
       "      <td>0</td>\n",
       "    </tr>\n",
       "    <tr>\n",
       "      <th>Nevada</th>\n",
       "      <td>1</td>\n",
       "      <td>0</td>\n",
       "    </tr>\n",
       "    <tr>\n",
       "      <th>New Hampshire</th>\n",
       "      <td>8</td>\n",
       "      <td>4</td>\n",
       "    </tr>\n",
       "    <tr>\n",
       "      <th>New Jersey</th>\n",
       "      <td>56</td>\n",
       "      <td>19</td>\n",
       "    </tr>\n",
       "    <tr>\n",
       "      <th>New Mexico</th>\n",
       "      <td>11</td>\n",
       "      <td>4</td>\n",
       "    </tr>\n",
       "    <tr>\n",
       "      <th>New York</th>\n",
       "      <td>6</td>\n",
       "      <td>0</td>\n",
       "    </tr>\n",
       "    <tr>\n",
       "      <th>North Carolina</th>\n",
       "      <td>3</td>\n",
       "      <td>0</td>\n",
       "    </tr>\n",
       "    <tr>\n",
       "      <th>Ohio</th>\n",
       "      <td>3</td>\n",
       "      <td>0</td>\n",
       "    </tr>\n",
       "    <tr>\n",
       "      <th>Oregon</th>\n",
       "      <td>36</td>\n",
       "      <td>13</td>\n",
       "    </tr>\n",
       "    <tr>\n",
       "      <th>Pennsylvania</th>\n",
       "      <td>110</td>\n",
       "      <td>20</td>\n",
       "    </tr>\n",
       "    <tr>\n",
       "      <th>Rhode Island</th>\n",
       "      <td>1</td>\n",
       "      <td>0</td>\n",
       "    </tr>\n",
       "    <tr>\n",
       "      <th>South Carolina</th>\n",
       "      <td>15</td>\n",
       "      <td>3</td>\n",
       "    </tr>\n",
       "    <tr>\n",
       "      <th>Tennessee</th>\n",
       "      <td>96</td>\n",
       "      <td>47</td>\n",
       "    </tr>\n",
       "    <tr>\n",
       "      <th>Texas</th>\n",
       "      <td>49</td>\n",
       "      <td>22</td>\n",
       "    </tr>\n",
       "    <tr>\n",
       "      <th>Utah</th>\n",
       "      <td>16</td>\n",
       "      <td>6</td>\n",
       "    </tr>\n",
       "    <tr>\n",
       "      <th>Vermont</th>\n",
       "      <td>2</td>\n",
       "      <td>1</td>\n",
       "    </tr>\n",
       "    <tr>\n",
       "      <th>Virginia</th>\n",
       "      <td>49</td>\n",
       "      <td>11</td>\n",
       "    </tr>\n",
       "    <tr>\n",
       "      <th>Washington</th>\n",
       "      <td>75</td>\n",
       "      <td>23</td>\n",
       "    </tr>\n",
       "    <tr>\n",
       "      <th>West Virginia</th>\n",
       "      <td>8</td>\n",
       "      <td>3</td>\n",
       "    </tr>\n",
       "  </tbody>\n",
       "</table>\n",
       "</div>"
      ],
      "text/plain": [
       "New_Status            Closed  Open\n",
       "State                             \n",
       "Alabama                   17     9\n",
       "Arizona                   14     6\n",
       "Arkansas                   6     0\n",
       "California               159    61\n",
       "Colorado                  58    22\n",
       "Connecticut                9     3\n",
       "Delaware                   8     4\n",
       "District Of Columbia      14     2\n",
       "District of Columbia       1     0\n",
       "Florida                  201    39\n",
       "Georgia                  208    80\n",
       "Illinois                 135    29\n",
       "Indiana                   50     9\n",
       "Iowa                       1     0\n",
       "Kansas                     1     1\n",
       "Kentucky                   4     3\n",
       "Louisiana                 12     1\n",
       "Maine                      3     2\n",
       "Maryland                  63    15\n",
       "Massachusetts             50    11\n",
       "Michigan                  92    23\n",
       "Minnesota                 29     4\n",
       "Mississippi               23    16\n",
       "Missouri                   3     1\n",
       "Montana                    1     0\n",
       "Nevada                     1     0\n",
       "New Hampshire              8     4\n",
       "New Jersey                56    19\n",
       "New Mexico                11     4\n",
       "New York                   6     0\n",
       "North Carolina             3     0\n",
       "Ohio                       3     0\n",
       "Oregon                    36    13\n",
       "Pennsylvania             110    20\n",
       "Rhode Island               1     0\n",
       "South Carolina            15     3\n",
       "Tennessee                 96    47\n",
       "Texas                     49    22\n",
       "Utah                      16     6\n",
       "Vermont                    2     1\n",
       "Virginia                  49    11\n",
       "Washington                75    23\n",
       "West Virginia              8     3"
      ]
     },
     "execution_count": 24,
     "metadata": {},
     "output_type": "execute_result"
    }
   ],
   "source": [
    "comcast_tele_consumer_status_by_state"
   ]
  },
  {
   "cell_type": "markdown",
   "id": "0dc49516",
   "metadata": {},
   "source": [
    "## Task 6- Provide state wise status of complaints in a stacked bar chart. Use the categorized variable from "
   ]
  },
  {
   "cell_type": "code",
   "execution_count": 25,
   "id": "6810e506",
   "metadata": {},
   "outputs": [
    {
     "data": {
      "text/plain": [
       "<AxesSubplot:title={'center':'State wise status of complaints'}, xlabel='State'>"
      ]
     },
     "execution_count": 25,
     "metadata": {},
     "output_type": "execute_result"
    },
    {
     "data": {
      "image/png": "[encoded data removed]",
      "text/plain": [
       "<Figure size 1152x432 with 1 Axes>"
      ]
     },
     "metadata": {
      "needs_background": "light"
     },
     "output_type": "display_data"
    }
   ],
   "source": [
    "pd.crosstab(comcast_tele_consumer.State,comcast_tele_consumer.New_Status).plot(kind='bar',figsize=(16,6),\n",
    "                                                      stacked=True,\n",
    "                                                      title='State wise status of complaints')"
   ]
  },
  {
   "cell_type": "markdown",
   "id": "cda7ac4b",
   "metadata": {},
   "source": [
    "## Task7- Which state has the maximum complaints - Georgia has maximum number of complaints"
   ]
  },
  {
   "cell_type": "markdown",
   "id": "7924ec14",
   "metadata": {},
   "source": [
    "## Task 8- Which state has the highest percentage of unresolved complaints\n"
   ]
  },
  {
   "cell_type": "code",
   "execution_count": 26,
   "id": "4fec18ef",
   "metadata": {},
   "outputs": [],
   "source": [
    "comcast_tele_consumer_unresolved_complaints = comcast_tele_consumer[comcast_tele_consumer['New_Status']=='Open']"
   ]
  },
  {
   "cell_type": "code",
   "execution_count": 27,
   "id": "e2722a9f",
   "metadata": {},
   "outputs": [
    {
     "data": {
      "text/plain": [
       "Georgia                 80\n",
       "California              61\n",
       "Tennessee               47\n",
       "Florida                 39\n",
       "Illinois                29\n",
       "Michigan                23\n",
       "Washington              23\n",
       "Texas                   22\n",
       "Colorado                22\n",
       "Pennsylvania            20\n",
       "New Jersey              19\n",
       "Mississippi             16\n",
       "Maryland                15\n",
       "Oregon                  13\n",
       "Massachusetts           11\n",
       "Virginia                11\n",
       "Indiana                  9\n",
       "Alabama                  9\n",
       "Arizona                  6\n",
       "Utah                     6\n",
       "New Hampshire            4\n",
       "Delaware                 4\n",
       "Minnesota                4\n",
       "New Mexico               4\n",
       "Connecticut              3\n",
       "West Virginia            3\n",
       "South Carolina           3\n",
       "Kentucky                 3\n",
       "Maine                    2\n",
       "District Of Columbia     2\n",
       "Missouri                 1\n",
       "Vermont                  1\n",
       "Kansas                   1\n",
       "Louisiana                1\n",
       "Name: State, dtype: int64"
      ]
     },
     "execution_count": 27,
     "metadata": {},
     "output_type": "execute_result"
    }
   ],
   "source": [
    "comcast_tele_consumer_unresolved_complaint_count = comcast_tele_consumer_unresolved_complaints.State.value_counts()\n",
    "comcast_tele_consumer_unresolved_complaint_count"
   ]
  },
  {
   "cell_type": "code",
   "execution_count": 28,
   "id": "eb7b96a3",
   "metadata": {},
   "outputs": [
    {
     "data": {
      "text/plain": [
       "Text(0.5, 1.0, 'Highest percentage of unresolved complaints\\n')"
      ]
     },
     "execution_count": 28,
     "metadata": {},
     "output_type": "execute_result"
    },
    {
     "data": {
      "image/png": "[encoded data removed]",
      "text/plain": [
       "<Figure size 720x720 with 1 Axes>"
      ]
     },
     "metadata": {
      "needs_background": "light"
     },
     "output_type": "display_data"
    }
   ],
   "source": [
    "# Georgia has the Highest Number of unresolved complaints\n",
    "# Show this by Bar Graph\n",
    "comcast_tele_consumer_unresolved_complaint_count.plot(kind='bar',figsize=(10,10),color=\"yellow\")\n",
    "plt.title('Highest percentage of unresolved complaints\\n')"
   ]
  },
  {
   "cell_type": "markdown",
   "id": "a59c8dc9",
   "metadata": {},
   "source": [
    "## Task 8.1: Provide the percentage of complaints resolved till date, which were received through the Internet and customer care calls."
   ]
  },
  {
   "cell_type": "code",
   "execution_count": 29,
   "id": "149f1696",
   "metadata": {},
   "outputs": [
    {
     "data": {
      "text/plain": [
       "array(['Customer Care Call', 'Internet'], dtype=object)"
      ]
     },
     "execution_count": 29,
     "metadata": {},
     "output_type": "execute_result"
    }
   ],
   "source": [
    "# Check unique values in Received Via Column\n",
    "comcast_tele_consumer['Received Via'].unique()"
   ]
  },
  {
   "cell_type": "code",
   "execution_count": 30,
   "id": "d0f6ee2a",
   "metadata": {},
   "outputs": [],
   "source": [
    "\n",
    "# So there are only two values in that columns so no need to short we can directly proceed to task 6\n"
   ]
  },
  {
   "cell_type": "code",
   "execution_count": 31,
   "id": "bf4db2aa",
   "metadata": {},
   "outputs": [
    {
     "data": {
      "text/plain": [
       "Closed    1707\n",
       "Open       517\n",
       "Name: New_Status, dtype: int64"
      ]
     },
     "execution_count": 31,
     "metadata": {},
     "output_type": "execute_result"
    }
   ],
   "source": [
    "comcast_tele_consumer.New_Status.value_counts()"
   ]
  },
  {
   "cell_type": "code",
   "execution_count": 32,
   "id": "0ac8e6a9",
   "metadata": {
    "scrolled": true
   },
   "outputs": [
    {
     "data": {
      "text/plain": [
       "<AxesSubplot:title={'center':'Complaints Status through the Internet & Customer Care Calls\\n'}, ylabel='New_Status'>"
      ]
     },
     "execution_count": 32,
     "metadata": {},
     "output_type": "execute_result"
    },
    {
     "data": {
      "image/png": "[encoded data removed]",
      "text/plain": [
       "<Figure size 1008x432 with 1 Axes>"
      ]
     },
     "metadata": {},
     "output_type": "display_data"
    }
   ],
   "source": [
    "# Used autopct='%1.1f%%'  to show percentage under the pie chart\n",
    "myexplode = [0.2, 0]\n",
    "plt.title('Complaints Status through the Internet & Customer Care Calls\\n')\n",
    "comcast_tele_consumer.New_Status.value_counts().plot(kind='pie',explode = myexplode,autopct='%1.1f%%',\n",
    "                        figsize = (14,6))"
   ]
  },
  {
   "cell_type": "code",
   "execution_count": null,
   "id": "9a804b7b",
   "metadata": {},
   "outputs": [],
   "source": []
  }
 ],
 "metadata": {
  "kernelspec": {
   "display_name": "Python 3 (ipykernel)",
   "language": "python",
   "name": "python3"
  },
  "language_info": {
   "codemirror_mode": {
    "name": "ipython",
    "version": 3
   },
   "file_extension": ".py",
   "mimetype": "text/x-python",
   "name": "python",
   "nbconvert_exporter": "python",
   "pygments_lexer": "ipython3",
   "version": "3.9.7"
  }
 },
 "nbformat": 4,
 "nbformat_minor": 5
}
